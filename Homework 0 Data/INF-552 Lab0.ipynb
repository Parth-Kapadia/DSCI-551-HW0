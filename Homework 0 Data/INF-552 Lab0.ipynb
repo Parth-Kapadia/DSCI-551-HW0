{
 "cells": [
  {
   "cell_type": "markdown",
   "metadata": {},
   "source": [
    "<center><h1>INF-552 Lab 0</h1></center>\n",
    "<br>\n",
    "<center><font size=\"4\">Introduction to Basic Development Tools</font></center>"
   ]
  },
  {
   "cell_type": "markdown",
   "metadata": {},
   "source": [
    "### Rules"
   ]
  },
  {
   "cell_type": "markdown",
   "metadata": {},
   "source": [
    "1. Please read the instructions and problem prompts **carefully**.\n",
    "2. This lab is to give you some basic APIs of numpy, pandas and scikit-learn. Besides, some topics such as how to make your jupyter notebook be a more efficient developing tools, how to use git and GitHub will also be covered. The lab is to be done individually. You may talk to your fellow classmates about general issues (\"Remind me again: Which API should I used for doing group by operation to a data set\") but about the specifies of how to do these exercises.\n",
    "3. Along with a similar vein, you can ask the TA for help, but ask questions about **concepts** but not ask the TA to help you debug your code. The TA is here to help, but not to do the work for you.\n",
    "4. You are welcome to use the class resources and the Internet.\n",
    "5. Playing with variations. Solve one problems, and then copy the code to a new cell and play around with it. Doing this is the single most important thing when learning programming.\n",
    "6. This lab will not be graded but the content is highly related to your future programming assignments. So, treat it wisely.\n",
    "7. All the content having been gone though in the week 1 discussion is just a snapshot of the most basic concepts. **You need to keep study more about Git, GitHub, Pandas, Numpy and Scikit-Learn in order to finish your programming assignments successfully.**\n",
    "8. Have fun!"
   ]
  },
  {
   "cell_type": "markdown",
   "metadata": {},
   "source": [
    "### Setup Development Environment"
   ]
  },
  {
   "attachments": {
    "image.png": {
     "image/png": "[encoded data removed]"
    }
   },
   "cell_type": "markdown",
   "metadata": {},
   "source": [
    "There are many ways to setup the environment. But, I do recommend a simple idea that is using the Anaconda, which is a pre-build python environment with bundles of useful packages.\n",
    "\n",
    "**To download the Anaconda, go to the following website:\n",
    "https://www.anaconda.com/distribution/**. Download the correct version based on your operating system and install it step by step.\n",
    "\n",
    "Then, **configure your PATH environment variable** to make the conda command work. The following command is an easy way to test whether your configuration is correct. If it is, you will see something as like as the sample output.\n",
    "\n",
    "> **command:**\n",
    ">\n",
    "> conda --version\n",
    ">\n",
    "> **sample output:**\n",
    ">\n",
    "> conda 4.6.12\n",
    "\n",
    "\n",
    "\n",
    "**MY OUTPUT:**\n",
    "\n",
    "![image.png](attachment:image.png)\n",
    "\n",
    "\n",
    "\n",
    "\n",
    "**Finally, download this jupyter notebook file,** then change the working directory to where its location in terminal, and type the following command to open the jupter notebook and finish the lab.\n",
    "\n",
    "> **command:** \n",
    "> jupyter notebook"
   ]
  },
  {
   "cell_type": "code",
   "execution_count": 1,
   "metadata": {
    "ExecuteTime": {
     "end_time": "2020-01-14T19:44:42.243800Z",
     "start_time": "2020-01-14T19:44:41.609555Z"
    }
   },
   "outputs": [],
   "source": [
    "import pandas as pd\n",
    "import numpy as np"
   ]
  },
  {
   "cell_type": "markdown",
   "metadata": {},
   "source": [
    "### Pandas"
   ]
  },
  {
   "cell_type": "markdown",
   "metadata": {},
   "source": [
    "#### The read_csv() Method"
   ]
  },
  {
   "cell_type": "markdown",
   "metadata": {},
   "source": [
    "First, read the documentation about the *read_csv()* method in Pandas (https://pandas.pydata.org/pandas-docs/stable/reference/api/pandas.read_csv.html). Then, try to read data from file Salaries.csv to a dataframe, make the column playerID in the csv file as the index column and the first row as the header. Also, skip the second row when reading the file."
   ]
  },
  {
   "cell_type": "code",
   "execution_count": 2,
   "metadata": {
    "ExecuteTime": {
     "end_time": "2019-08-28T03:51:17.953542Z",
     "start_time": "2019-08-28T03:51:17.937799Z"
    }
   },
   "outputs": [],
   "source": [
    "df = pd.read_csv('Salaries.csv')"
   ]
  },
  {
   "cell_type": "code",
   "execution_count": 3,
   "metadata": {},
   "outputs": [
    {
     "data": {
      "text/html": [
       "<div>\n",
       "<style scoped>\n",
       "    .dataframe tbody tr th:only-of-type {\n",
       "        vertical-align: middle;\n",
       "    }\n",
       "\n",
       "    .dataframe tbody tr th {\n",
       "        vertical-align: top;\n",
       "    }\n",
       "\n",
       "    .dataframe thead th {\n",
       "        text-align: right;\n",
       "    }\n",
       "</style>\n",
       "<table border=\"1\" class=\"dataframe\">\n",
       "  <thead>\n",
       "    <tr style=\"text-align: right;\">\n",
       "      <th></th>\n",
       "      <th>yearID</th>\n",
       "      <th>teamID</th>\n",
       "      <th>lgID</th>\n",
       "      <th>playerID</th>\n",
       "      <th>salary</th>\n",
       "    </tr>\n",
       "  </thead>\n",
       "  <tbody>\n",
       "    <tr>\n",
       "      <th>0</th>\n",
       "      <td>1985</td>\n",
       "      <td>ATL</td>\n",
       "      <td>NL</td>\n",
       "      <td>barkele01</td>\n",
       "      <td>870000</td>\n",
       "    </tr>\n",
       "    <tr>\n",
       "      <th>1</th>\n",
       "      <td>1985</td>\n",
       "      <td>ATL</td>\n",
       "      <td>NL</td>\n",
       "      <td>bedrost01</td>\n",
       "      <td>550000</td>\n",
       "    </tr>\n",
       "    <tr>\n",
       "      <th>2</th>\n",
       "      <td>1985</td>\n",
       "      <td>ATL</td>\n",
       "      <td>NL</td>\n",
       "      <td>benedbr01</td>\n",
       "      <td>545000</td>\n",
       "    </tr>\n",
       "    <tr>\n",
       "      <th>3</th>\n",
       "      <td>1985</td>\n",
       "      <td>ATL</td>\n",
       "      <td>NL</td>\n",
       "      <td>campri01</td>\n",
       "      <td>633333</td>\n",
       "    </tr>\n",
       "    <tr>\n",
       "      <th>4</th>\n",
       "      <td>1985</td>\n",
       "      <td>ATL</td>\n",
       "      <td>NL</td>\n",
       "      <td>ceronri01</td>\n",
       "      <td>625000</td>\n",
       "    </tr>\n",
       "  </tbody>\n",
       "</table>\n",
       "</div>"
      ],
      "text/plain": [
       "   yearID teamID lgID   playerID  salary\n",
       "0    1985    ATL   NL  barkele01  870000\n",
       "1    1985    ATL   NL  bedrost01  550000\n",
       "2    1985    ATL   NL  benedbr01  545000\n",
       "3    1985    ATL   NL   campri01  633333\n",
       "4    1985    ATL   NL  ceronri01  625000"
      ]
     },
     "execution_count": 3,
     "metadata": {},
     "output_type": "execute_result"
    }
   ],
   "source": [
    "df.head()"
   ]
  },
  {
   "cell_type": "markdown",
   "metadata": {},
   "source": [
    "#### Indexing and Selecting Data"
   ]
  },
  {
   "cell_type": "markdown",
   "metadata": {},
   "source": [
    "Select the id of the players who are registered in ATL and HOU and whose salary is higher than one million."
   ]
  },
  {
   "cell_type": "code",
   "execution_count": 17,
   "metadata": {
    "ExecuteTime": {
     "end_time": "2019-08-28T03:51:24.015061Z",
     "start_time": "2019-08-28T03:51:23.982621Z"
    }
   },
   "outputs": [
    {
     "data": {
      "text/html": [
       "<div>\n",
       "<style scoped>\n",
       "    .dataframe tbody tr th:only-of-type {\n",
       "        vertical-align: middle;\n",
       "    }\n",
       "\n",
       "    .dataframe tbody tr th {\n",
       "        vertical-align: top;\n",
       "    }\n",
       "\n",
       "    .dataframe thead th {\n",
       "        text-align: right;\n",
       "    }\n",
       "</style>\n",
       "<table border=\"1\" class=\"dataframe\">\n",
       "  <thead>\n",
       "    <tr style=\"text-align: right;\">\n",
       "      <th></th>\n",
       "      <th>yearID</th>\n",
       "      <th>teamID</th>\n",
       "      <th>lgID</th>\n",
       "      <th>playerID</th>\n",
       "      <th>salary</th>\n",
       "    </tr>\n",
       "  </thead>\n",
       "  <tbody>\n",
       "    <tr>\n",
       "      <th>10</th>\n",
       "      <td>1985</td>\n",
       "      <td>ATL</td>\n",
       "      <td>NL</td>\n",
       "      <td>hornebo01</td>\n",
       "      <td>1500000</td>\n",
       "    </tr>\n",
       "    <tr>\n",
       "      <th>15</th>\n",
       "      <td>1985</td>\n",
       "      <td>ATL</td>\n",
       "      <td>NL</td>\n",
       "      <td>murphda05</td>\n",
       "      <td>1625000</td>\n",
       "    </tr>\n",
       "    <tr>\n",
       "      <th>20</th>\n",
       "      <td>1985</td>\n",
       "      <td>ATL</td>\n",
       "      <td>NL</td>\n",
       "      <td>suttebr01</td>\n",
       "      <td>1354167</td>\n",
       "    </tr>\n",
       "    <tr>\n",
       "      <th>216</th>\n",
       "      <td>1985</td>\n",
       "      <td>HOU</td>\n",
       "      <td>NL</td>\n",
       "      <td>ryanno01</td>\n",
       "      <td>1350000</td>\n",
       "    </tr>\n",
       "    <tr>\n",
       "      <th>559</th>\n",
       "      <td>1986</td>\n",
       "      <td>ATL</td>\n",
       "      <td>NL</td>\n",
       "      <td>hornebo01</td>\n",
       "      <td>1800000</td>\n",
       "    </tr>\n",
       "    <tr>\n",
       "      <th>...</th>\n",
       "      <td>...</td>\n",
       "      <td>...</td>\n",
       "      <td>...</td>\n",
       "      <td>...</td>\n",
       "      <td>...</td>\n",
       "    </tr>\n",
       "    <tr>\n",
       "      <th>25053</th>\n",
       "      <td>2015</td>\n",
       "      <td>HOU</td>\n",
       "      <td>AL</td>\n",
       "      <td>quallch01</td>\n",
       "      <td>3000000</td>\n",
       "    </tr>\n",
       "    <tr>\n",
       "      <th>25054</th>\n",
       "      <td>2015</td>\n",
       "      <td>HOU</td>\n",
       "      <td>AL</td>\n",
       "      <td>rasmuco01</td>\n",
       "      <td>8000000</td>\n",
       "    </tr>\n",
       "    <tr>\n",
       "      <th>25055</th>\n",
       "      <td>2015</td>\n",
       "      <td>HOU</td>\n",
       "      <td>AL</td>\n",
       "      <td>singljo02</td>\n",
       "      <td>2000000</td>\n",
       "    </tr>\n",
       "    <tr>\n",
       "      <th>25056</th>\n",
       "      <td>2015</td>\n",
       "      <td>HOU</td>\n",
       "      <td>AL</td>\n",
       "      <td>sippto01</td>\n",
       "      <td>2400000</td>\n",
       "    </tr>\n",
       "    <tr>\n",
       "      <th>25059</th>\n",
       "      <td>2015</td>\n",
       "      <td>HOU</td>\n",
       "      <td>AL</td>\n",
       "      <td>valbulu01</td>\n",
       "      <td>4200000</td>\n",
       "    </tr>\n",
       "  </tbody>\n",
       "</table>\n",
       "<p>595 rows × 5 columns</p>\n",
       "</div>"
      ],
      "text/plain": [
       "       yearID teamID lgID   playerID   salary\n",
       "10       1985    ATL   NL  hornebo01  1500000\n",
       "15       1985    ATL   NL  murphda05  1625000\n",
       "20       1985    ATL   NL  suttebr01  1354167\n",
       "216      1985    HOU   NL   ryanno01  1350000\n",
       "559      1986    ATL   NL  hornebo01  1800000\n",
       "...       ...    ...  ...        ...      ...\n",
       "25053    2015    HOU   AL  quallch01  3000000\n",
       "25054    2015    HOU   AL  rasmuco01  8000000\n",
       "25055    2015    HOU   AL  singljo02  2000000\n",
       "25056    2015    HOU   AL   sippto01  2400000\n",
       "25059    2015    HOU   AL  valbulu01  4200000\n",
       "\n",
       "[595 rows x 5 columns]"
      ]
     },
     "execution_count": 17,
     "metadata": {},
     "output_type": "execute_result"
    }
   ],
   "source": [
    "df[(df['teamID'].str.contains('ATL|HOU')==True) & (df['salary']>1000000)]"
   ]
  },
  {
   "cell_type": "markdown",
   "metadata": {},
   "source": [
    "#### The describe() Method"
   ]
  },
  {
   "cell_type": "markdown",
   "metadata": {},
   "source": [
    "Calculate the standard Deviation, first quartile, medium, third quartile, mean, maximum, minimum of the salary in team ATL."
   ]
  },
  {
   "cell_type": "code",
   "execution_count": 18,
   "metadata": {
    "ExecuteTime": {
     "end_time": "2019-08-28T01:46:27.395276Z",
     "start_time": "2019-08-28T01:46:27.368849Z"
    }
   },
   "outputs": [
    {
     "data": {
      "text/plain": [
       "count    2.557500e+04\n",
       "mean     2.008563e+06\n",
       "std      3.315706e+06\n",
       "min      0.000000e+00\n",
       "25%      2.750000e+05\n",
       "50%      5.500000e+05\n",
       "75%      2.250000e+06\n",
       "max      3.300000e+07\n",
       "Name: salary, dtype: float64"
      ]
     },
     "execution_count": 18,
     "metadata": {},
     "output_type": "execute_result"
    }
   ],
   "source": [
    "df['salary'].describe()"
   ]
  },
  {
   "cell_type": "markdown",
   "metadata": {},
   "source": [
    "#### The iterrows() Method"
   ]
  },
  {
   "cell_type": "markdown",
   "metadata": {},
   "source": [
    "Create a Python dictionary object whose keys are the headers of the dataframe created in the read_csv() exercise and values are Python list objects that contain data corresponding to the headers. (Here, use the iterrows method to iterate each row of the dataframe and copy it to a dictionary. However, there is a easier way. Learn how the to_dict() method works by yourself later)"
   ]
  },
  {
   "cell_type": "code",
   "execution_count": null,
   "metadata": {
    "ExecuteTime": {
     "end_time": "2019-08-28T03:51:38.476575Z",
     "start_time": "2019-08-28T03:51:36.568044Z"
    }
   },
   "outputs": [],
   "source": []
  },
  {
   "cell_type": "markdown",
   "metadata": {},
   "source": [
    "#### Create Dataframe Using the Constructor"
   ]
  },
  {
   "cell_type": "markdown",
   "metadata": {
    "ExecuteTime": {
     "end_time": "2019-08-24T15:53:45.113577Z",
     "start_time": "2019-08-24T15:53:45.110554Z"
    }
   },
   "source": [
    "Read the documentation: https://pandas.pydata.org/pandas-docs/stable/reference/api/pandas.DataFrame.html#pandas.DataFrame and create a dataframe using pd.DataFrame from the dictionary created in the iterrows() exercise. Change the header to \"a\", \"b\", \"c\", ... at creation time."
   ]
  },
  {
   "cell_type": "code",
   "execution_count": null,
   "metadata": {
    "ExecuteTime": {
     "end_time": "2019-08-28T03:53:06.129037Z",
     "start_time": "2019-08-28T03:53:06.074438Z"
    }
   },
   "outputs": [],
   "source": []
  },
  {
   "cell_type": "markdown",
   "metadata": {},
   "source": [
    "### Numpy"
   ]
  },
  {
   "cell_type": "markdown",
   "metadata": {},
   "source": [
    "Quick start: https://www.numpy.org/devdocs/user/quickstart.html\n",
    "\n",
    "Numpy axes explaination: https://www.sharpsightlabs.com/blog/numpy-axes-explained/"
   ]
  },
  {
   "cell_type": "markdown",
   "metadata": {},
   "source": [
    "#### The np.array Method"
   ]
  },
  {
   "cell_type": "markdown",
   "metadata": {},
   "source": [
    "Example 1:\n",
    "\n",
    "```python\n",
    "ls = [1, 2, 3]\n",
    "arr = np.array(ls)\n",
    "```\n",
    "\n",
    "Example 2:\n",
    "```python\n",
    ">>> np.array([[1, 2], [3, 4]])\n",
    "array([[1, 2],\n",
    "       [3, 4]])\n",
    "```"
   ]
  },
  {
   "cell_type": "markdown",
   "metadata": {},
   "source": [
    "Now, create a 2-dimensional Python list object, then convert it to a Numpy array object."
   ]
  },
  {
   "cell_type": "code",
   "execution_count": null,
   "metadata": {},
   "outputs": [],
   "source": []
  },
  {
   "cell_type": "markdown",
   "metadata": {},
   "source": [
    "#### ndarray Objects' Attributes"
   ]
  },
  {
   "cell_type": "markdown",
   "metadata": {},
   "source": [
    "Play with the **ndim, shape, size, dtype, itemsize and data** attribute.\n",
    "\n",
    "Example:\n",
    "\n",
    "```python\n",
    ">>> arr = np.array([[1, 2], [3, 4]])\n",
    ">>> arr.ndim\n",
    "2\n",
    "```"
   ]
  },
  {
   "cell_type": "code",
   "execution_count": null,
   "metadata": {},
   "outputs": [],
   "source": []
  },
  {
   "cell_type": "markdown",
   "metadata": {},
   "source": [
    "#### Dimension of ndarray Ojects"
   ]
  },
  {
   "cell_type": "markdown",
   "metadata": {},
   "source": [
    "Play with the reshape() and flatten() method.\n",
    "\n",
    "Example:\n",
    "```python\n",
    ">>> arr = np.array([[1, 2], [3, 4]])\n",
    ">>> arr.flatten()\n",
    "array([1, 2, 3, 4])\n",
    "```"
   ]
  },
  {
   "cell_type": "code",
   "execution_count": null,
   "metadata": {},
   "outputs": [],
   "source": []
  },
  {
   "cell_type": "markdown",
   "metadata": {},
   "source": [
    "#### The Slice Operation of ndarray Objects"
   ]
  },
  {
   "cell_type": "markdown",
   "metadata": {},
   "source": [
    "Understand how the slice operation works for 1-D array and 2-D array.\n",
    "\n",
    "Example:\n",
    "\n",
    "```python\n",
    ">>> arr = np.array([[1, 2, 3], [3, 4, 6], [7, 8, 9]])\n",
    ">>> arr[1:]\n",
    "array([[3, 4, 6],\n",
    "       [7, 8, 9]])\n",
    ">>> arr[1:, 0:2]\n",
    "array([[3, 4],\n",
    "       [7, 8]])\n",
    "```"
   ]
  },
  {
   "cell_type": "code",
   "execution_count": null,
   "metadata": {},
   "outputs": [],
   "source": []
  },
  {
   "cell_type": "markdown",
   "metadata": {},
   "source": [
    "#### The Calculation of ndarray Objects"
   ]
  },
  {
   "cell_type": "markdown",
   "metadata": {},
   "source": [
    "Play with the **argmin(), argmax(), min(), max(), mean(), sum(), std(), dot(), square(), sqrt(), abs(). exp(), sign(), mod()** method.\n",
    "\n",
    "Example:\n",
    "\n",
    "```python\n",
    ">>> np.square(array)\n",
    "array([[ 1,  4,  9],\n",
    "       [ 9, 16, 36],\n",
    "       [49, 64, 81]])\n",
    "\n",
    "```"
   ]
  },
  {
   "cell_type": "code",
   "execution_count": null,
   "metadata": {},
   "outputs": [],
   "source": []
  },
  {
   "cell_type": "markdown",
   "metadata": {},
   "source": [
    "#### Other Important Methods Inside Module Numpy"
   ]
  },
  {
   "cell_type": "markdown",
   "metadata": {},
   "source": [
    "Play with the arange(), ones(), zeros(), eye(), linspace(), concatenate() method.\n",
    "\n",
    "Example:\n",
    "\n",
    "```python\n",
    ">>> np.eye(3)\n",
    "array([[1., 0., 0.],\n",
    "       [0., 1., 0.],\n",
    "       [0., 0., 1.]])\n",
    "```"
   ]
  },
  {
   "cell_type": "code",
   "execution_count": null,
   "metadata": {},
   "outputs": [],
   "source": []
  },
  {
   "cell_type": "markdown",
   "metadata": {},
   "source": [
    "### Scikit-Learn"
   ]
  },
  {
   "cell_type": "markdown",
   "metadata": {},
   "source": [
    "The followings are packages (or methods) in Python (Scikit-Learn and Scipy) that will be frequently used in your programming assignment. So, please read carefully.\n",
    "\n",
    "- Data Preprocessing (https://scikit-learn.org/stable/modules/classes.html#module-sklearn.preprocessing)\n",
    "    - Standardization: StandardScaler\n",
    "    - Normalization: MinMaxScaler\n",
    "    - Quantifing Categorical Features: LabelEncoder. OneHotEncoder\n",
    "    - Construct Train and Test Set: model_selection.train_test_split\n",
    "- KNN: KNeighborsClassifier\n",
    "- Linear Regression: LinearRegression\n",
    "- Logistic Regression: LogisticRegression, LogisticRegressionCV\n",
    "- Feature Selection / Model Selection\n",
    "    - L1 Penalized Regression (Lasso Regression) with Cross-Validation: LassoCV\n",
    "    - L2 Penalized Regression (Ridge Regression) with Cross-Validation: RidgeCV\n",
    "    - Cross-Validation: StratifiedKFold, RepeatedKFold, LeaveOneOut, KFold, model_selection.cross_validate, model_selection.cross_val_predict, model_selection.cross_val_score\n",
    "    - Model Metrics (https://scikit-learn.org/stable/modules/classes.html#sklearn-metrics-metrics): accuracy_score, auc, f1_score, hamming_loss, precision_score, recall_score, roc_auc_score\n",
    "- Decision Tree: DecisionTreeClassifier, DecisionTreeRegressor\n",
    "- Bootstrap, Ensemble Methods\n",
    "    - Bootstrap: bootstrapped (https://pypi.org/project/bootstrapped/)\n",
    "    - Bagging: RandomForestClassifier, RandomForestRegressor\n",
    "    - Boosting: AdaBoostClassifier, AdaBoostRegressor\n",
    "- Support Vector Machines (https://scikit-learn.org/stable/modules/svm.html#svm): LinearSVC, LinearSVR\n",
    "- Multiclass and Multilabel Classification (https://scikit-learn.org/stable/modules/classes.html#module-sklearn.multiclass)\n",
    "    - One-vs-one Multiclass Strategy: OneVsOneClassifier\n",
    "    - One-vs-the-rest (OvR) multiclass/multilabel strategy / OneVsRestClassifier\n",
    "- Unsupervised Learning\n",
    "    - K-means Clustering: KMeans\n",
    "    - Hierarchical Clustering: scipy.cluster.hierarchy (not scikit-learn)\n",
    "- Semisupervised Learning (https://scikit-learn.org/stable/modules/label_propagation.html)"
   ]
  },
  {
   "cell_type": "markdown",
   "metadata": {},
   "source": [
    "### Matplotlib"
   ]
  },
  {
   "cell_type": "markdown",
   "metadata": {},
   "source": [
    "**Quick start:** https://matplotlib.org/3.1.1/tutorials/introductory/pyplot.html\n",
    "\n",
    "**Exercises:**"
   ]
  },
  {
   "cell_type": "markdown",
   "metadata": {},
   "source": [
    "(a) Create two one dimensional arrays x and y and plot y vs x, add title, xlabel, ylabel, grid.\n",
    "\n",
    "```python\n",
    "import numpy as np\n",
    "import matplotlib.pyplot as plt\n",
    "\n",
    "\n",
    "x = np.linspace(-5, 5, num=20)\n",
    "y = np.array([j ** 2 for j in x])\n",
    "```\n",
    "\n",
    "copy the code above to the following cell and add code for plotting the parabola."
   ]
  },
  {
   "cell_type": "code",
   "execution_count": null,
   "metadata": {
    "ExecuteTime": {
     "end_time": "2020-01-08T10:38:20.467433Z",
     "start_time": "2020-01-08T10:38:20.462120Z"
    }
   },
   "outputs": [],
   "source": []
  },
  {
   "cell_type": "markdown",
   "metadata": {
    "ExecuteTime": {
     "end_time": "2020-01-08T10:43:28.333944Z",
     "start_time": "2020-01-08T10:43:28.260989Z"
    }
   },
   "source": [
    "What happens if the independent variable is not sorted before plotting? Try plotting directly using the following defined array.\n",
    "\n",
    "```python\n",
    "import numpy as np\n",
    "import matplotlib.pyplot as plt\n",
    "\n",
    "\n",
    "x = np.linspace(-5, 5, num=20)\n",
    "np.random.shuffle(x)\n",
    "y = np.array([j ** 2 for j in x])\n",
    "```"
   ]
  },
  {
   "cell_type": "code",
   "execution_count": null,
   "metadata": {},
   "outputs": [],
   "source": []
  },
  {
   "cell_type": "markdown",
   "metadata": {},
   "source": [
    "(b) Create multiple arrays and plot them with different styles, add legends, add text/mathematical equations on the plot.\n",
    "\n",
    "```python\n",
    "import numpy as np\n",
    "import matplotlib.pyplot as plt\n",
    "\n",
    "\n",
    "x = np.linspace(-5, 5, num=20)\n",
    "y1 = np.array([j for j in x])\n",
    "y2 = np.array([j ** 2 for j in x])\n",
    "y3 = np.array([j ** 3 for j in x])\n",
    "```\n",
    "\n",
    "copy the code above to the following cell and add code for plotting curve $\\left(x, y1\\right)$, $\\left(x, y2\\right)$ and $\\left(x, y3\\right)$."
   ]
  },
  {
   "cell_type": "code",
   "execution_count": null,
   "metadata": {},
   "outputs": [],
   "source": []
  },
  {
   "cell_type": "markdown",
   "metadata": {},
   "source": [
    "(c) Create multiple arrays and plot them into one figure **(No multiple figure and no subplot is allowed in this question)**.\n",
    "\n",
    "```python\n",
    "import numpy as np\n",
    "import matplotlib.pyplot as plt\n",
    "\n",
    "\n",
    "x = np.linspace(-5, 5, num=20)\n",
    "y1 = np.array([j for j in x])\n",
    "y2 = np.array([j ** 2 for j in x])\n",
    "y3 = np.array([j ** 3 for j in x])\n",
    "```\n",
    "\n",
    "copy the code above to the following cell and add code for plotting curve $\\left(x, y1\\right)$, $\\left(x, y2\\right)$ and $\\left(x, y3\\right)$."
   ]
  },
  {
   "cell_type": "code",
   "execution_count": null,
   "metadata": {},
   "outputs": [],
   "source": []
  },
  {
   "cell_type": "markdown",
   "metadata": {},
   "source": [
    "(d) Create multiple subplots, play around with the figure size, figure title, and its font style and font size **(One curve is plotted in one subplot in this question)**.\n",
    "\n",
    "```python\n",
    "import numpy as np\n",
    "import matplotlib.pyplot as plt\n",
    "\n",
    "\n",
    "x = np.linspace(-5, 5, num=20)\n",
    "y1 = np.array([j for j in x])\n",
    "y2 = np.array([j ** 2 for j in x])\n",
    "y3 = np.array([j ** 3 for j in x])\n",
    "```\n",
    "\n",
    "copy the code above to the following cell and add code for plotting curve $\\left(x, y1\\right)$, $\\left(x, y2\\right)$ and $\\left(x, y3\\right)$."
   ]
  },
  {
   "cell_type": "code",
   "execution_count": null,
   "metadata": {},
   "outputs": [],
   "source": []
  },
  {
   "cell_type": "markdown",
   "metadata": {},
   "source": [
    "(e) Change the limits on x and y axes, **use logarithmic axes to plot**.\n",
    "\n",
    "```python\n",
    "import numpy as np\n",
    "import matplotlib.pyplot as plt\n",
    "\n",
    "\n",
    "x = np.linspace(-5, 5, num=20)\n",
    "y = np.array([j ** 2 for j in x])\n",
    "```\n",
    "\n",
    "copy the code above to the following cell and add code for plotting the parabola."
   ]
  },
  {
   "cell_type": "code",
   "execution_count": null,
   "metadata": {},
   "outputs": [],
   "source": []
  },
  {
   "cell_type": "markdown",
   "metadata": {},
   "source": [
    "### Pandas's DataFrame.plot and Seaborn"
   ]
  },
  {
   "cell_type": "markdown",
   "metadata": {},
   "source": [
    "#### Pandas's DataFrame.plot\n",
    "\n",
    "Use the Salaries.csv again (You can use the dataframe object loaded from section 3.1)."
   ]
  },
  {
   "cell_type": "markdown",
   "metadata": {},
   "source": [
    "(a) For team 'ATL', plot a scatter plot between feature yearID and salary."
   ]
  },
  {
   "cell_type": "code",
   "execution_count": null,
   "metadata": {},
   "outputs": [],
   "source": []
  },
  {
   "cell_type": "markdown",
   "metadata": {},
   "source": [
    "(b) For year 1985, plot a bar chart to show the average salary for each team."
   ]
  },
  {
   "cell_type": "code",
   "execution_count": null,
   "metadata": {},
   "outputs": [],
   "source": []
  },
  {
   "cell_type": "markdown",
   "metadata": {},
   "source": [
    "(c) For team 'ATL', plot a line chart to show how the annual average salary change by years."
   ]
  },
  {
   "cell_type": "code",
   "execution_count": null,
   "metadata": {},
   "outputs": [],
   "source": []
  },
  {
   "cell_type": "markdown",
   "metadata": {},
   "source": [
    "#### Seaborn"
   ]
  },
  {
   "cell_type": "markdown",
   "metadata": {},
   "source": [
    "(a) Append one more numeric feature to the data frame (can be generated randomly), then for team 'ATL', use the seaborn.pairplot to plot scatter plots among all numeric features in the data frame for team. "
   ]
  },
  {
   "cell_type": "code",
   "execution_count": null,
   "metadata": {},
   "outputs": [],
   "source": []
  },
  {
   "cell_type": "markdown",
   "metadata": {},
   "source": [
    "(b) For year 1985 and for each team, plot a boxplot to show how the salary distribute within a team."
   ]
  },
  {
   "cell_type": "code",
   "execution_count": null,
   "metadata": {},
   "outputs": [],
   "source": []
  },
  {
   "cell_type": "markdown",
   "metadata": {},
   "source": [
    "(c) Read the offical documentation (https://seaborn.pydata.org/) to understand how lmplot, catplot, relplot, and jointplot works."
   ]
  },
  {
   "cell_type": "markdown",
   "metadata": {},
   "source": [
    "### Jupyter Notebook"
   ]
  },
  {
   "cell_type": "markdown",
   "metadata": {},
   "source": [
    "#### Jupyter Notebook Extensions"
   ]
  },
  {
   "cell_type": "markdown",
   "metadata": {},
   "source": [
    "Extensions such as the code formatter, table of content is to make your development more efficient. To explore it, please refer to https://github.com/ipython-contrib/jupyter_contrib_nbextensions."
   ]
  },
  {
   "cell_type": "markdown",
   "metadata": {},
   "source": [
    "#### Jupyter Visual Debugger"
   ]
  },
  {
   "cell_type": "markdown",
   "metadata": {},
   "source": [
    "The Pixie Debugger is a visual debugger for debugging on Jupyter Notebook. To explore it, please refer to https://medium.com/codait/the-visual-python-debugger-for-jupyter-notebooks-youve-always-wanted-761713babc62."
   ]
  },
  {
   "cell_type": "markdown",
   "metadata": {},
   "source": [
    "### Git and GitHub"
   ]
  },
  {
   "cell_type": "markdown",
   "metadata": {},
   "source": [
    "1. In the directory that where this jupyter notebook file locates in, init a Git repository.\n",
    "2. Checkout a new branch called dev and commit the current notebook within this branch.\n",
    "3. Merge the dev branch to the master branch (the default branch).\n",
    "4. Create a temporary repository (just for practicing and you can delete it later) in GitHub. \n",
    "5. Push new changes in the master branch to the remote repository created in step 4.\n",
    "6. Checkout the dev branch again and do some changes to your notebook, and then repeat step 3 and step 5."
   ]
  },
  {
   "cell_type": "code",
   "execution_count": null,
   "metadata": {},
   "outputs": [],
   "source": []
  },
  {
   "cell_type": "code",
   "execution_count": null,
   "metadata": {},
   "outputs": [],
   "source": []
  },
  {
   "cell_type": "code",
   "execution_count": null,
   "metadata": {},
   "outputs": [],
   "source": []
  },
  {
   "cell_type": "code",
   "execution_count": null,
   "metadata": {},
   "outputs": [],
   "source": []
  },
  {
   "cell_type": "code",
   "execution_count": null,
   "metadata": {},
   "outputs": [],
   "source": []
  }
 ],
 "metadata": {
  "kernelspec": {
   "display_name": "Python 3 (ipykernel)",
   "language": "python",
   "name": "python3"
  },
  "language_info": {
   "codemirror_mode": {
    "name": "ipython",
    "version": 3
   },
   "file_extension": ".py",
   "mimetype": "text/x-python",
   "name": "python",
   "nbconvert_exporter": "python",
   "pygments_lexer": "ipython3",
   "version": "3.9.7"
  },
  "toc": {
   "base_numbering": 1,
   "nav_menu": {},
   "number_sections": true,
   "sideBar": true,
   "skip_h1_title": true,
   "title_cell": "Table of Contents",
   "title_sidebar": "Contents",
   "toc_cell": false,
   "toc_position": {
    "height": "calc(100% - 180px)",
    "left": "10px",
    "top": "150px",
    "width": "294.435px"
   },
   "toc_section_display": true,
   "toc_window_display": true
  }
 },
 "nbformat": 4,
 "nbformat_minor": 2
}
